{
 "cells": [
  {
   "cell_type": "code",
   "execution_count": null,
   "id": "c526a090",
   "metadata": {},
   "outputs": [
    {
     "ename": "",
     "evalue": "",
     "output_type": "error",
     "traceback": [
      "\u001b[1;31mFailed to start the Kernel. \n",
      "\u001b[1;31mUnable to start Kernel 'venv (Python 3.12.1)' due to a timeout waiting for the ports to get used. \n",
      "\u001b[1;31mView Jupyter <a href='command:jupyter.viewOutput'>log</a> for further details."
     ]
    }
   ],
   "source": [
    "from dash import Dash, html, dcc, callback, Output, Input\n",
    "from jupyter_dash import JupyterDash\n",
    "import dash_bootstrap_components as dbc\n",
    "import plotly.express as px\n",
    "import pandas as pd\n",
    "\n",
    "# Initialize the Dash app\n",
    "app = JupyterDash(\n",
    "    __name__,\n",
    "    external_stylesheets=[dbc.themes.BOOTSTRAP]\n",
    ")\n",
    "server = app.server\n",
    "\n",
    "# Tab definitions as data\n",
    "TAB_CONFIG = [\n",
    "    {\n",
    "        \"label\": \"Tab One\",\n",
    "        \"label_class_name\": \"custom-tab-title\",\n",
    "        \"active_label_class_name\": \"custom-tab-active\",\n",
    "        \"content\": \"Content goes here…\",\n",
    "    },\n",
    "    {\n",
    "        \"label\": \"Tab Two\",\n",
    "        \"label_class_name\": \"custom-tab-title\",\n",
    "        \"active_label_class_name\": \"custom-tab-active\",\n",
    "        \"content\": \"More content…\",\n",
    "    },\n",
    "    # Add more tabs here\n",
    "]\n",
    "\n",
    "# Build the Tabs component from TAB_CONFIG\n",
    "tabs = dbc.Tabs(\n",
    "    [\n",
    "        dbc.Tab(\n",
    "            label=tab[\"label\"],\n",
    "            label_class_name=tab[\"label_class_name\"],\n",
    "            children=html.P(tab[\"content\"]),\n",
    "        )\n",
    "        for tab in TAB_CONFIG\n",
    "    ]\n",
    ")\n",
    "\n",
    "# Page layout\n",
    "app.layout = html.Div(\n",
    "    className=\"page-wrapper\",\n",
    "    children=[\n",
    "        html.H1(\"Hello Gradient\", className=\"gradient-text-1\"),\n",
    "        tabs,\n",
    "        html.H2(\"Welcome Back\", className=\"gradient-text-1\"),\n",
    "    ],\n",
    ")\n",
    "\n",
    "if __name__ == '__main__':\n",
    "    app.run(debug='True', mode='inline')"
   ]
  }
 ],
 "metadata": {
  "kernelspec": {
   "display_name": "venv",
   "language": "python",
   "name": "python3"
  },
  "language_info": {
   "codemirror_mode": {
    "name": "ipython",
    "version": 3
   },
   "file_extension": ".py",
   "mimetype": "text/x-python",
   "name": "python",
   "nbconvert_exporter": "python",
   "pygments_lexer": "ipython3",
   "version": "3.12.1"
  }
 },
 "nbformat": 4,
 "nbformat_minor": 5
}
