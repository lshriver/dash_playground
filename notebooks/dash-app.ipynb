{
 "cells": [
  {
   "cell_type": "code",
   "execution_count": 25,
   "id": "c526a090",
   "metadata": {},
   "outputs": [
    {
     "data": {
      "text/html": [
       "\n",
       "        <iframe\n",
       "            width=\"100%\"\n",
       "            height=\"650\"\n",
       "            src=\"http://0.0.0.0:8053/\"\n",
       "            frameborder=\"0\"\n",
       "            allowfullscreen\n",
       "            \n",
       "        ></iframe>\n",
       "        "
      ],
      "text/plain": [
       "<IPython.lib.display.IFrame at 0x7448fe177620>"
      ]
     },
     "metadata": {},
     "output_type": "display_data"
    }
   ],
   "source": [
    "import dash\n",
    "from dash import html\n",
    "import dash_core_components as dcc\n",
    "import dash_bootstrap_components as dbc\n",
    "\n",
    "# Initialize the Dash app\n",
    "app = dash.Dash(\n",
    "    __name__,\n",
    "    assets_folder='/workspaces/dash_playground/assets/',\n",
    "    external_stylesheets=[dbc.themes.BOOTSTRAP]\n",
    ")\n",
    "server = app.server\n",
    "\n",
    "# Tab definitions as data\n",
    "TAB_CONFIG = [\n",
    "    {\n",
    "        \"label\": \"Tab One\",\n",
    "        \"label_class_name\": \"custom-tab-title\",\n",
    "        \"active_label_class_name\": \"custom-tab-active\",\n",
    "        \"content\": \"Content goes here…\",\n",
    "    },\n",
    "    {\n",
    "        \"label\": \"Tab Two\",\n",
    "        \"label_class_name\": \"custom-tab-title\",\n",
    "        \"active_label_class_name\": \"custom-tab-active\",\n",
    "        \"content\": \"More content…\",\n",
    "    },\n",
    "    # Add more tabs here\n",
    "]\n",
    "\n",
    "# Build the Tabs component from TAB_CONFIG\n",
    "tabs = dbc.Tabs(\n",
    "    [\n",
    "        dbc.Tab(\n",
    "            label=tab[\"label\"],\n",
    "            label_class_name=tab[\"label_class_name\"],\n",
    "            children=html.P(tab[\"content\"]),\n",
    "        )\n",
    "        for tab in TAB_CONFIG\n",
    "    ]\n",
    ")\n",
    "\n",
    "# Page layout\n",
    "app.layout = html.Div(\n",
    "    className=\"page-wrapper\",\n",
    "    children=[\n",
    "        html.H1(\"Hello Gradient\", className=\"gradient-text-1\"),\n",
    "        tabs,\n",
    "        html.H2(\"Welcome Back\", className=\"gradient-text-1\"),\n",
    "    ],\n",
    ")\n",
    "\n",
    "# Run the app in Jupyter Notebook\n",
    "if __name__ == \"__main__\":\n",
    "    app.run(host='0.0.0.0', debug=True, port=8053, mode=\"inline\", height=600, width=\"80%\")"
   ]
  }
 ],
 "metadata": {
  "kernelspec": {
   "display_name": "venv",
   "language": "python",
   "name": "python3"
  },
  "language_info": {
   "codemirror_mode": {
    "name": "ipython",
    "version": 3
   },
   "file_extension": ".py",
   "mimetype": "text/x-python",
   "name": "python",
   "nbconvert_exporter": "python",
   "pygments_lexer": "ipython3",
   "version": "3.12.1"
  }
 },
 "nbformat": 4,
 "nbformat_minor": 5
}
